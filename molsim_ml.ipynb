{
 "cells": [
  {
   "cell_type": "markdown",
   "metadata": {},
   "source": [
    "# ML for Gas Adsorption"
   ]
  },
  {
   "cell_type": "markdown",
   "metadata": {},
   "source": [
    "## Import packages we will need"
   ]
  },
  {
   "cell_type": "code",
   "execution_count": null,
   "metadata": {},
   "outputs": [],
   "source": [
    "# basics \n",
    "import os \n",
    "import numpy as np \n",
    "import pprint as pp\n",
    "\n",
    "# pandas is used to read/process data\n",
    "import pandas as pd \n",
    "# pandas profiling gives you a quick overview of the data\n",
    "import pandas_profiling\n",
    "\n",
    "# machine learning dependencies\n",
    "# scaling of data\n",
    "from sklearn.preprocessing import StandardScaler, MinMaxScaler, RobustScaler\n",
    "# train/test split\n",
    "from sklearn.model_selection import train_test_split\n",
    "# model selection \n",
    "from sklearn.model_selection import GridSearchCV, RandomizedSearchCV\n",
    "# the KRR model\n",
    "from sklearn.kernel_ridge import KernelRidge\n",
    "# linear model \n",
    "from sklearn.linear_model import LinearRegression\n",
    "# pipeline to streamline modeling pipelines\n",
    "from sklearn.pipeline import Pipeline\n",
    "# principal component analysis\n",
    "from sklearn.decomposition import PCA\n",
    "# polynomial kernel \n",
    "from sklearn.metrics.pairwise import polynomial_kernel\n",
    "# Dummy model as baseline\n",
    "from sklearn.dummy import DummyClassifier, DummyRegressor\n",
    "# Variance Threshold for feature selection\n",
    "from sklearn.feature_selection import VarianceThreshold, SelectFromModel\n",
    "# metrics to measure model performance\n",
    "from sklearn.metrics import (accuracy_score, precision_score, recall_score, f1_score,\n",
    "                             mean_absolute_error, mean_squared_error, max_error)\n",
    "# feature names\n",
    "from descriptornames import * \n",
    "\n",
    "# save/load models \n",
    "import joblib\n",
    "\n",
    "# For the permutation importance implementation\n",
    "from joblib import Parallel\n",
    "from joblib import delayed\n",
    "from sklearn.metrics import check_scoring\n",
    "from sklearn.utils import Bunch\n",
    "from sklearn.utils import check_random_state\n",
    "from sklearn.utils import check_array\n",
    "\n",
    "# plotting \n",
    "import matplotlib.pyplot as plt \n",
    "%matplotlib inline \n",
    "import seaborn as sns\n",
    "\n",
    "# for interactive plots, you can try to use holoviewes\n",
    "import holoviews as hv\n",
    "from holoviews import dim, opts\n",
    "hv.extension('bokeh')\n",
    "\n",
    "RANDOM_SEED = 4242424242\n",
    "DATA_DIR = 'data'\n",
    "DATA_FILE = os.path.join(DATA_DIR, 'data.csv')\n",
    "\n",
    "np.random.seed(RANDOM_SEED)\n"
   ]
  },
  {
   "cell_type": "markdown",
   "metadata": {},
   "source": [
    " $\\color{DarkBlue}{\\textsf{Short question}}$\n",
    "- We declared a global variable to fix the random seed (`RANDOM_SEED`). Why did we do this?  "
   ]
  },
  {
   "cell_type": "markdown",
   "metadata": {},
   "source": [
    "## Hands-on Project: Carbon-dioxide uptake in MOFs"
   ]
  },
  {
   "cell_type": "markdown",
   "metadata": {},
   "source": [
    "In this exercise we will build a model that can predict the CO$_2$ uptake of metal-organic frameworks (MOFs), which are crystalline materials consisting of inorganic metal nodes linked by organic linkers.\n",
    "\n",
    "![MOF building principle](_static/mof_building_principle.png)\n",
    "\n",
    "There are two main **learning goals** for this exercise: \n",
    "\n",
    "1. Understand the typical workflow for machine learning in materials science. We will cover exploratory data analysis (EDA) and supervised learning (KRR).\n",
    "\n",
    "2. Get familiar with some Python packages that are useful for data analysis and visualization. \n",
    "\n",
    "At the end of the exercise, you will produce an interactive plot like the one below, comparing the predictions of your model against CO$_2$ computed with GCMC simulations.\n",
    "The histograms show the distributions of the errors on the training set (left) and on the test set (right).\n",
    "\n",
    "\n",
    "\n",
    "<img src=\"_static/result.gif\" alt=\"Parity interactive\" width=\"700\"/>\n",
    "\n",
    "This exercise requires a basic knowledge of Python, e.g. that you can write list comprehensions, and are able to read documentation of functions provided by Python packages.\n",
    "You will be asked to provide some function arguments (indicated by `#fillme` comments).\n",
    "\n",
    "You can execute all the following code cells by pressing SHIFT and ENTER and get informations about the functions by pressing TAB when you are between the parentheses (see the notes for more tips). \n",
    "\n",
    "Also the [sklearn documentation](https://scikit-learn.org/stable/user_guide.html) is a great source of reference with many explanations and examples.\n",
    "\n",
    "In pandas dataframe (df) you can select columns using their name by running `df[columnname]`. If at any point you think that the dataset is too large for your computer, you can select a subset using `df.sample()` or by making the test set larger in the train/test split (section 2). "
   ]
  },
  {
   "cell_type": "markdown",
   "metadata": {},
   "source": [
    "## 1. Import the data"
   ]
  },
  {
   "cell_type": "code",
   "execution_count": null,
   "metadata": {},
   "outputs": [],
   "source": [
    "df = pd.read_csv(DATA_FILE)"
   ]
  },
  {
   "cell_type": "markdown",
   "metadata": {},
   "source": [
    "Let's take a look at the first few rows to see if everythings seems reasonable ..."
   ]
  },
  {
   "cell_type": "code",
   "execution_count": null,
   "metadata": {},
   "outputs": [],
   "source": [
    "df.head()"
   ]
  },
  {
   "cell_type": "markdown",
   "metadata": {},
   "source": [
    "<details>\n",
    "<summary> <font color='green'>Click here for a hint</font></summary>\n",
    "<ul>\n",
    "    <li>Use something like <code>pd.options.display.max_columns=100</code> to adjust how many columns are shown.<code>pd.options.display.max_columns=100</code>  would show at maximum 100 columns. </li>\n",
    "</ul>\n",
    "</details>"
   ]
  },
  {
   "cell_type": "markdown",
   "metadata": {},
   "source": [
    "Let's also get some basic information ..."
   ]
  },
  {
   "cell_type": "code",
   "execution_count": null,
   "metadata": {},
   "outputs": [],
   "source": [
    "df.info()"
   ]
  },
  {
   "cell_type": "markdown",
   "metadata": {},
   "source": [
    " $\\color{DarkBlue}{\\textsf{Short question}}$\n",
    "- How many materials are in the dataset? \n",
    "- Which datatypes do we deal with?"
   ]
  },
  {
   "cell_type": "markdown",
   "metadata": {},
   "source": [
    "Below, we define three global variables (hence upper case), which are the *names* of our feature and target columns. We will use the `TARGET` for the actual regression and the `TARGET_BINARY` only for the stratified train/test split. The `FEATURES` variable is a list of column names of our dataframe."
   ]
  },
  {
   "cell_type": "code",
   "execution_count": null,
   "metadata": {},
   "outputs": [],
   "source": [
    "TARGET = \"pure_uptake_CO2_298.00_1600000\"\n",
    "TARGET_BINARY = \"target_binned\"  # will be created later\n",
    "FEATURES = (\n",
    "    geometric_descriptors\n",
    "    + summed_functionalgroup_descriptors\n",
    "    + summed_linker_descriptors\n",
    "    + summed_metalcenter_descriptors\n",
    ")\n"
   ]
  },
  {
   "cell_type": "markdown",
   "metadata": {},
   "source": [
    "As descriptors we will use geometric properties such as density, pore volume, etc. and [revised autocorrelation functions](https://pubs.acs.org/doi/abs/10.1021/acs.jpca.7b08750) (RACs) that have been optimized for describing inorganic compounds ([and recently adapated for MOFs](https://www.nature.com/articles/s41467-020-17755-8))"
   ]
  },
  {
   "cell_type": "markdown",
   "metadata": {},
   "source": [
    "Examples for pore geometry descriptors (in `geometric_descriptors`) include: $D_i$ (the size of the largest included sphere), $D_f$ (the largest free sphere), and $D_{if}$ (the largest included free sphere) along the pore $-$ three ways of characterizing pore size. \n",
    "\n",
    "![pore diameters](_static/spheres.png)\n",
    "\n",
    "Also included are the surface area (SA) of the pore, and the probe-occupiable pore volume (POV).\n",
    "More details on the description of pore geometries can be found in [Ongari et al.](https://pubs.acs.org/doi/abs/10.1021/acs.langmuir.7b01682)"
   ]
  },
  {
   "cell_type": "markdown",
   "metadata": {},
   "source": [
    "RACs (in the lists starting with `summed_...`) operate on the structure graph and encode information about the metal center, linkers and the functional groups as differences or products of heuristics that are relevant for inorganic chemistry, such as electronegativity ($\\chi$), connectivity ($T$), identity ($I$), covalent radii ($S$), and nuclear charge ($Z$)."
   ]
  },
  {
   "cell_type": "markdown",
   "metadata": {},
   "source": [
    "\n",
    "<img src=\"_static/racs.png\" alt=\"RACs scheme from the lecture\" width=\"700\"/>"
   ]
  },
  {
   "cell_type": "markdown",
   "metadata": {},
   "source": [
    "The number in the descriptornames shows the coordination shell that was considered in the calculation of the RACs."
   ]
  },
  {
   "cell_type": "markdown",
   "metadata": {},
   "source": [
    "The target we use for this application is the high-pressure CO$_2$ uptake. This is the amount of CO$_2$ (mmol) the MOF can load per gram."
   ]
  },
  {
   "cell_type": "markdown",
   "metadata": {},
   "source": [
    "## 2. Split the data"
   ]
  },
  {
   "cell_type": "markdown",
   "metadata": {},
   "source": [
    "Next, we split our data into a training set and a test set.\n",
    "\n",
    "In order to prevent *any* information of the test set from leaking into our model, we split *before* starting to analyze or transform our data. For more details on why this matters, see [chapter 7.10.2 of Elements of Statistical Learning](https://web.stanford.edu/~hastie/ElemStatLearn//printings/ESLII_print10.pdf)."
   ]
  },
  {
   "cell_type": "markdown",
   "metadata": {},
   "source": [
    "### 2.1. Split with stratification"
   ]
  },
  {
   "cell_type": "markdown",
   "metadata": {},
   "source": [
    "[Stratification](https://en.wikipedia.org/wiki/Stratified_sampling) ensures that the class distributions (ratio of \"good\" to \"bad\" materials) are the same in the training and test set.\n",
    "\n",
    " $\\color{DarkBlue}{\\textsf{Short question}}$\n",
    "\n",
    "- Why is this important? What could happen if we would not do this? \n",
    " \n",
    "\n",
    "For stratification to work, we to define what makes a \"good\" or a \"bad\" material. We will use 15 mmol CO$_2$ / g as the threshold for the uptake, thus binarizing our continuous target variable. (You can choose it based on the histogram of the variables)."
   ]
  },
  {
   "cell_type": "markdown",
   "metadata": {},
   "source": [
    " $\\color{DarkBlue}{\\textsf{Short Exercise}}$\n",
    " - add a column 'target_binary' that encodes whether a material is low performing (`0`) or high perfoming (`1`) by comparing the uptake with the `THRESHOLD`"
   ]
  },
  {
   "cell_type": "markdown",
   "metadata": {},
   "source": [
    "<details>\n",
    "<summary> <font color='green'>Click here for a hint</font></summary>\n",
    "<ul>\n",
    "    <li> you can use <a href='https://pandas.pydata.org/pandas-docs/stable/reference/api/pandas.cut.html'>pd.cut</a>, \n",
    "    <a href='https://stackoverflow.com/questions/4406389/if-else-in-a-list-comprehension'>list comprehension</a>, the <a href='https://scikit-learn.org/stable/modules/generated/sklearn.preprocessing.Binarizer.html#sklearn.preprocessing.Binarizer'> binarizer in sklearn </a>...) </li>\n",
    "    <li> a list comprehension example: <code> [1 if value > THRESHOLD else 0 for value in df[TARGET]] </code> </li>\n",
    "</ul>\n",
    "</details>"
   ]
  },
  {
   "cell_type": "code",
   "execution_count": null,
   "metadata": {},
   "outputs": [],
   "source": [
    "THRESHOLD = 15 # in units of mmol CO2/g\n",
    "df[TARGET_BINARY] = # add your code"
   ]
  },
  {
   "cell_type": "markdown",
   "metadata": {},
   "source": [
    "Now, we can perform the actual split into training and test set."
   ]
  },
  {
   "cell_type": "markdown",
   "metadata": {},
   "source": [
    " $\\color{DarkBlue}{\\textsf{Short Exercise}}$\n",
    "- select reasonable values for `XX` and `XY` and then perform the test/train splits. What do you consider when making this decision (think about what you would do with really small and really big datasets, what happens if you have only one test point, what happens to the model performance if you have more test points than training points)? \n",
    "- why do we need to perform the split into a training and test set? \n",
    "- would we use the test set to tune the hyperparameters of our model?\n",
    "\n",
    "<details>\n",
    "<summary> <font color='green'>Click here for a hint</font></summary>\n",
    "<ul>\n",
    "    <li>The `size` arguments can either be integers or, often more convenient, decimals like 0.1</li>\n",
    "    <li>When you perform the split into training and test set you need to trade-off bias (pessimistic bias due to little training data) and variance (due to little test data) </li>\n",
    "    <li>A typical split cloud be 70/30, but for huge dataset the test set might be too big and for small datasets the training set might be too small in this way </li>\n",
    "</ul>\n",
    "</details>"
   ]
  },
  {
   "cell_type": "code",
   "execution_count": null,
   "metadata": {},
   "outputs": [],
   "source": [
    "df_train_stratified, df_test_stratified = train_test_split(\n",
    "    df,\n",
    "    train_size=XX,\n",
    "    test_size=XY,\n",
    "    random_state=RANDOM_SEED,\n",
    "    stratify=df[TARGET_BINARY],\n",
    ")\n"
   ]
  },
  {
   "cell_type": "markdown",
   "metadata": {},
   "source": [
    "## 3. Exploratory data analysis (EDA) "
   ]
  },
  {
   "cell_type": "markdown",
   "metadata": {},
   "source": [
    "After we have put the test set aside, we can give the training set a closer look."
   ]
  },
  {
   "cell_type": "markdown",
   "metadata": {},
   "source": [
    "### 3.1. Get some description of the data"
   ]
  },
  {
   "cell_type": "markdown",
   "metadata": {},
   "source": [
    "Use the [`pandas_profiling`](https://github.com/pandas-profiling/pandas-profiling) package to get an overview of the data.\n",
    "\n",
    "$\\color{DarkBlue}{\\textsf{Short Exercise}}$\n",
    "- Are there skewed distributions? - What could be an issue if we have those?\n",
    "- Are there missing values? - What could be an issue with those and can you come up with a solution? \n",
    "- Are there columns with constant data? What could be the issue with those?\n",
    "\n",
    "By default, `pandas_profiling` computes many statistics, which can take some time. For this reason, we use the `minimal=True` option, which disables the calculation of correlations and dynamic binning.\n",
    "You can speed it up even more by subsampling the data first."
   ]
  },
  {
   "cell_type": "markdown",
   "metadata": {},
   "source": [
    "<details>\n",
    "<summary> <font color='green'>Click here for a hint</font></summary>\n",
    "<ul>\n",
    "    <li> use <code>df.sample(500)</code> to get a random sample of 500 rows, e.g. <code>df_train_stratified.sample(500)</code>. </li>\n",
    "    <li> the function call might then look like <code>pandas_profiling.ProfileReport(df_train_stratified.sample(500))</code> </li>\n",
    "</ul>\n",
    "</details>\n",
    "\n",
    "You can use `profile.to_file(output_file=\"your_report.html\")` to save the report to an HTML file.\n"
   ]
  },
  {
   "cell_type": "code",
   "execution_count": null,
   "metadata": {},
   "outputs": [],
   "source": [
    "profile = pandas_profiling.ProfileReport(#fillme, minimal=True)"
   ]
  },
  {
   "cell_type": "code",
   "execution_count": null,
   "metadata": {},
   "outputs": [],
   "source": [
    "profile.to_notebook_iframe()"
   ]
  },
  {
   "cell_type": "markdown",
   "metadata": {},
   "source": [
    "### 3.2. Correlations"
   ]
  },
  {
   "cell_type": "markdown",
   "metadata": {},
   "source": [
    " $\\color{DarkBlue}{\\textsf{Short Exercise}}$\n",
    "- Plot some features against the target property and calculate the Pearson and Spearman correlation coefficient (what is the different between those correlation coefficients?) \n",
    "- What are the strongest correlations? Did you expect them? \n",
    "- What can be a problem when features are correlated?\n",
    "- *Optional:* Do they change if you switch from CO$_2$ to CH$_4$ uptake as the target instead? Explain your observation."
   ]
  },
  {
   "cell_type": "markdown",
   "metadata": {},
   "source": [
    "To get the correlation matrices, you can use the `df.corr(method=)`method on your dataframe (`df`). You might want to calculate not the full correlation matrix but just the correlation of the features with the targets"
   ]
  },
  {
   "cell_type": "markdown",
   "metadata": {},
   "source": [
    "<details>\n",
    "<summary> <font color='green'>Click here for a hint</font></summary>\n",
    "<ul>\n",
    "    <li> To get the correlation with a target, you can use indexing. E.g. <code>df.corr(method='spearman')[TARGET]</code></li>\n",
    "    <li> use <code>.sort_values()</code> method on the output of `df.corr()` to sort by the value of the correlation coefficient  </li>\n",
    "      <li> You can use something like <code>scatter = hv.Scatter(df, 'Di', [TARGET,  'density [g/cm^3]']).opts(color='density [g/cm^3]', cmap='rainbow')</code> for plotting. Also consider the <a href=\"https://holoviews.org/reference/elements/matplotlib/Scatter.html\"> holoviews documentation</a>. In case holoviews is too new for you, you can of course just use matplotlib and something like <code>plt.scatter(x,y)</code> </li>\n",
    "</ul>\n",
    "</details>"
   ]
  },
  {
   "cell_type": "code",
   "execution_count": null,
   "metadata": {},
   "outputs": [],
   "source": [
    "# add code here"
   ]
  },
  {
   "cell_type": "markdown",
   "metadata": {},
   "source": [
    "## 4. Baselines"
   ]
  },
  {
   "cell_type": "markdown",
   "metadata": {},
   "source": [
    "For machine learning, it is important to have some *baselines* to which one then compares the results of a model. Think of a classification model for some rare disease where we only have 1% postives. A classification model that only predictes the negatives *all the time* will still have a amazingly high accuracy. To be able to understand if our model is really better than such a simple prediction we need to make the simple prediction first. This is what we call a baseline.\n",
    "\n",
    "A baseline could be a really simple model, a basic heuristic or the current state of the art.\n",
    "this. We will use a heuristic.\n",
    "\n",
    "For this we use sklearn `Dummy` objects that simply calculate the mean, the median or the most frequent case of the training set, when you run the `fit()` method on them (which takes the features matrix $\\mathbf{X}$ and the labels $\\mathbf{y}$ as arguments.\n",
    "This is, the prediction of a `DummyRegressor` with `mean` strategy will always be the mean, independent of the input (it will not look at the feature matrix!). \n",
    "\n",
    "Instead of using those `sklearn` objects you could also just manually compute the the mean or median of the dataset. But we will use those objects as we can learn in this way how to use estimators in `sklearn` and it is also allows you to test your full pipeline with different (baseline) models. \n",
    "What does this mean? In practice this means that you can use all the regression and classification models shown in the figure below in the same way, they will all have a `fit()` method that accepts `X` and `y` and a predict method that accepts `X` and returns the predictions. \n",
    "\n",
    "\n",
    "<img src=\"https://scikit-learn.org/stable/_static/ml_map.png\" alt=\"ML Map\" width=\"800\"/>\n",
    "\n",
    "The estimator objects can be always used in the same way \n",
    "\n",
    "<img src=\"https://static.packt-cdn.com/products/9781789800265/graphics/d49a2e95-8f22-42ed-89f1-474b3d028787.png\" alt=\"ML Map\" width=\"400\"/>\n",
    "\n",
    "Using these objects, instead of the mean directly, allows you to easily swap them with other models in pipelines, where one chains many data transformation steps (see section 6)."
   ]
  },
  {
   "cell_type": "markdown",
   "metadata": {},
   "source": [
    "### 4.1. Build dummy models"
   ]
  },
  {
   "cell_type": "markdown",
   "metadata": {},
   "source": [
    "$\\color{DarkBlue}{\\textsf{Short Question}}$\n",
    "- If you call `.fit(X, y)` on a `DummyRegressor` does it actually use the `X`? If not, why is there still the place for the `X` in the function? If yes, how does it use it?\n",
    "\n",
    "$\\color{DarkBlue}{\\textsf{Short Exercise}}$\n",
    "- Create [`DummyRegressor`](https://scikit-learn.org/stable/modules/generated/sklearn.dummy.DummyRegressor.html) instances for  `mean`, `median`. (e.g. `dummyinstance = DummyRegressor(strategy='mean')`)\n",
    "- Train them on the training data (`dummyinstance.fit(df_train[FEATURES], df_train[TARGET])`)"
   ]
  },
  {
   "cell_type": "markdown",
   "metadata": {},
   "source": [
    "<details>\n",
    "<summary> <font color='green'>Click here for hints</font></summary>\n",
    "<ul>\n",
    "    <li> to create <code>DummyRegressor</code> you can for example use <code> dummyregressor_mean = DummyRegressor(strategy='mean') </code> </li>\n",
    "    <li> to see the implementation of the <code>DummyRegressor</code> you can check out <a href=\"https://github.com/scikit-learn/scikit-learn/blob/73732e5a0bc9b72c7049dc699d69aaedbb70ef0a/sklearn/dummy.py#L391\"> the source code on GitHub</a> </li>\n",
    "</ul>\n",
    "</details>"
   ]
  },
  {
   "cell_type": "code",
   "execution_count": null,
   "metadata": {},
   "outputs": [],
   "source": [
    "# Build DummyRegressors\n",
    "dummyregressor_mean = DummyRegressor(strategy='mean')\n",
    "dummyregressor_median = DummyRegressor(#fillme)"
   ]
  },
  {
   "cell_type": "code",
   "execution_count": null,
   "metadata": {},
   "outputs": [],
   "source": [
    "# Fit Dummy Regressors\n",
    "dummyregressor_mean.fit(df_train_stratified[FEATURES], df_train_stratified[TARGET])\n",
    "dummyregressor_median.fit(#fillme)"
   ]
  },
  {
   "cell_type": "markdown",
   "metadata": {},
   "source": [
    "#### Evaluate the performance of the dummy models"
   ]
  },
  {
   "cell_type": "markdown",
   "metadata": {},
   "source": [
    " $\\color{DarkBlue}{\\textsf{Short Exercise}}$\n",
    "- Calculate maximum error, mean absolute error and mean square error for the dummy regressors on training and test set. What would you expect those numbers to be?\n",
    "- Do the actual values surprise you? \n",
    "- What does this mean in practice for reporting of metrics/the reasoning behind using baseline models\n",
    "\n",
    "It can be handy to store our metrics of choice in a nested dictionary ([Python dictionaries are key-value pairs](https://www.tutorialspoint.com/python/python_dictionary.htm)): \n",
    "\n",
    "```python\n",
    "{\n",
    "    'dummyestimator1': {\n",
    "                        'metric_a_key': metric_a_value, \n",
    "                        'metric_b_key': metric_b_value\n",
    "                    },\n",
    "    'dummyestimator2': {\n",
    "                        'metric_a_key': metric_a_value, \n",
    "                        'metric_b_key': metric_b_value\n",
    "                    },\n",
    " }\n",
    "``` \n",
    "\n",
    "You will now write functions `get_regression_metrics(model, X, y_true)` that compute the metrics and return this dictionary for a given model. The `predict` method takes the feature matrix $\\mathbf{X}$ as input.\n",
    "\n",
    "In them, we calculate \n",
    "\n",
    "$\\mathrm {MAE} =\\frac{\\sum _{i=1}^{n}\\left|Y_{i}-\\hat{y}_{i}\\right|}{n}.$\n",
    "\n",
    "and \n",
    "\n",
    "$\\mathrm {MSE} = {\\frac {1}{n}}\\sum _{i=1}^{n}(Y_{i}-{\\hat {Y_{i}}})^{2}.$ \n",
    "\n",
    "where $\\hat{y}$ are the predictions and, $Y_{i}$ the true values.\n",
    "\n",
    "as well as the maximum error."
   ]
  },
  {
   "cell_type": "markdown",
   "metadata": {},
   "source": [
    "<details>\n",
    "<summary> <font color='green'>Click here for hints</font></summary>\n",
    "<ul>\n",
    "    <li> to perform a prediction using a estimator object, you can call <code> classifier.predict(X) </code> </li>\n",
    "    <li> to calculate metrics, you can for example call <code>accuracy_score(true_values, predicted_values) </code> </li>\n",
    "</ul>\n",
    "</details>"
   ]
  },
  {
   "cell_type": "code",
   "execution_count": null,
   "metadata": {},
   "outputs": [],
   "source": [
    "def get_regression_metrics(model, X, y_true): \n",
    "    \"\"\"\n",
    "    Get a dicionary with regression metrics:\n",
    "    \n",
    "    model: sklearn model with predict method\n",
    "    X: feature matrix\n",
    "    y_true: ground truth labels \n",
    "    \"\"\"\n",
    "    y_predicted = model.predict(#fillme)\n",
    "    \n",
    "    mae = mean_absolute_error(#fillme)\n",
    "    mse = mean_squared_error(#fillme)\n",
    "    maximum_error = max_error(#fillme)\n",
    "    \n",
    "    metrics_dict = {\n",
    "        'mae': mae, \n",
    "        'mse': mse, \n",
    "        'max_error': maximum_error\n",
    "    }\n",
    "    \n",
    "    return metrics_dict"
   ]
  },
  {
   "cell_type": "code",
   "execution_count": null,
   "metadata": {},
   "outputs": [],
   "source": [
    "dummy_regressors = [\n",
    "    ('mean', dummyregressor_mean), \n",
    "    ('median', dummyregressor_median)\n",
    "]"
   ]
  },
  {
   "cell_type": "code",
   "execution_count": null,
   "metadata": {},
   "outputs": [],
   "source": [
    "dummy_regressor_results_test = {} # initialize empty dictionary\n",
    "dummy_regressor_results_train = {}\n",
    "\n",
    "# loop over the dummy_regressor list \n",
    "# if you have a tuple regressorname, regressor = (a, b) that is automatically expanded into the variables \n",
    "# a = regressorname, b = regressor\n",
    "for regressorname, regressor in dummy_regressors: \n",
    "    print(f\"Calculating metrics for {regressorname}\")\n",
    "    dummy_regressor_results_test[regressorname] = get_regression_metrics(#fillme)\n",
    "    dummy_regressor_results_train[regressorname] = get_regression_metrics(#fillme)"
   ]
  },
  {
   "cell_type": "markdown",
   "metadata": {},
   "source": [
    "## 5. Build actual regression models"
   ]
  },
  {
   "cell_type": "markdown",
   "metadata": {},
   "source": [
    "Let's build a simple [kernel ridge regression (KRR)](https://emtiyaz.github.io/pcml15/kernel-ridge-regression.pdf) machine learning model and train it with our raw data.\n",
    "You can try different kernels, but we recommend to start with the Gaussian radial basis function ('rbf') kernel.\n",
    " \n",
    " $\\color{DarkBlue}{\\textsf{Short Question}}$\n",
    "- Do you expect this model to perform better than the dummy models?\n",
    "- Train it and then calculate the performance metrics on the training and test set. How do they compare to the performance of the dummy models?\n",
    "- What is the shape of the Kernel and of the weights? (you can check your answer by looking at the `dual_coef_` attribute of the KRR instance. You can get shapes of objects using the `shape` atrribute "
   ]
  },
  {
   "cell_type": "code",
   "execution_count": null,
   "metadata": {},
   "outputs": [],
   "source": [
    "# Train the model with a Gaussian kernel\n",
    "krr = KernelRidge(kernel='rbf')\n",
    "krr.fit(#fillme)"
   ]
  },
  {
   "cell_type": "code",
   "execution_count": null,
   "metadata": {},
   "outputs": [],
   "source": [
    "# get the metrics on the train and the test set using the get_regression_metrics functions (as above)"
   ]
  },
  {
   "cell_type": "markdown",
   "metadata": {},
   "source": [
    "## 6. Evaluate the model performance in detail"
   ]
  },
  {
   "cell_type": "markdown",
   "metadata": {},
   "source": [
    "We have trained our first machine learning model!\n",
    "We'll first have a closer look at its performance, before learning how to improve it."
   ]
  },
  {
   "cell_type": "markdown",
   "metadata": {},
   "source": [
    " $\\color{DarkBlue}{\\textsf{Short Exercise}}$\n",
    "- Create a parity plot (true values against predictions)for the training and test data\n",
    "- Plot a histogram of the distribution of the training and test errors on the training and test set. Plot the errors also as a function of the true value\n",
    "- Let's assume we would like to use our model for pre-screening a library of millions of porous materials to zoom-in on those with the most promising gas uptake. Could you tolerate the errors of your model?\n",
    "- Compare the parity plots for this model with the ones for the dummy models. \n",
    "Use the plotting functions below the evaluate all the following models you train.\n",
    "\n",
    "For this exercise, it can be handy to save the results in a dictionary, e.g. \n",
    "```(python)\n",
    "res_train = {\n",
    "    'y true': [],\n",
    "    'y pred': []\n",
    "}\n",
    "```"
   ]
  },
  {
   "cell_type": "markdown",
   "metadata": {},
   "source": [
    "<details>\n",
    "<summary> <font color='green'>Click here for hints for plotting</font></summary>\n",
    "<ul>\n",
    "    <li> If you want to use matplotlib to make the parity plots, you can use the <a href=\"https://matplotlib.org/3.1.1/api/_as_gen/matplotlib.pyplot.hist2d.html\">hist2d function</a> </li>\n",
    "    <li> To create the frequencies and the edges of a histogram, one can use <code>np.histogram</code></li>\n",
    "</ul>\n",
    "</details>"
   ]
  },
  {
   "cell_type": "code",
   "execution_count": null,
   "metadata": {},
   "outputs": [],
   "source": [
    "# Create dictionaries with training and test results to create parity plots \n",
    "res_train = {\n",
    "    'y true': # fillme using the dataframe,\n",
    "    'y pred': # fillme using the model prediction\n",
    "}\n",
    "\n",
    "res_test = {\n",
    "    'y true': # fillme using the dataframe\n",
    "    'y pred': # fillme using the model prediction\n",
    "}"
   ]
  },
  {
   "cell_type": "markdown",
   "metadata": {},
   "source": [
    "Now, lets calculate the errors"
   ]
  },
  {
   "cell_type": "code",
   "execution_count": null,
   "metadata": {},
   "outputs": [],
   "source": [
    "res_train[\"error\"] = res_train[\"y true\"] - res_train[\"y pred\"]\n",
    "res_test[\"error\"] = res_test[\"y true\"] - res_test[\"y pred\"]\n"
   ]
  },
  {
   "cell_type": "markdown",
   "metadata": {},
   "source": [
    "Now, plot the parity plots and error distributions"
   ]
  },
  {
   "cell_type": "code",
   "execution_count": null,
   "metadata": {},
   "outputs": [],
   "source": [
    "# plot it\n",
    "hv.extension(\"bokeh\")\n",
    "hex_train = hv.HexTiles(res_train, [\"y true\", \"y pred\"]).hist(\n",
    "    dimension=[\"y true\", \"y pred\"]\n",
    ")\n",
    "hex_test = hv.HexTiles(res_test, [\"y true\", \"y pred\"]).hist(\n",
    "    dimension=[\"y true\", \"y pred\"]\n",
    ")\n",
    "hex_train + hex_test\n"
   ]
  },
  {
   "cell_type": "markdown",
   "metadata": {},
   "source": [
    "## 7. Improve the model "
   ]
  },
  {
   "cell_type": "markdown",
   "metadata": {},
   "source": [
    "Our training set still has a couple of issues you might have noticed:\n",
    "- The feature values are not scaled (different features are measured in different units ...)\n",
    "- Some features are basically constant, i.e. do not contain relevant information and just increase the dimensionality of the problem \n",
    "- Some feature distributions are skewed (which is more relevant for some models than for others ...)"
   ]
  },
  {
   "cell_type": "markdown",
   "metadata": {},
   "source": [
    "$\\color{DarkBlue}{\\textsf{Short Question}}$\n",
    "- Why might the scaling of the features be relevant for a machine learning model? "
   ]
  },
  {
   "cell_type": "markdown",
   "metadata": {},
   "source": [
    "### 7.1. Standard scaling and building a first pipeline "
   ]
  },
  {
   "cell_type": "markdown",
   "metadata": {},
   "source": [
    "Given that we will now go beyond training a single model, we will build [Pipelines](https://scikit-learn.org/stable/modules/generated/sklearn.pipeline.Pipeline.html), which are objects that can collect a selection of transformations and estimators. This makes it quite easy to apply the same set of operations to different datasets. A simple pipeline might be built as follows \n",
    "\n",
    "<img src=\"https://vitalflux.com/wp-content/uploads/2020/08/ML-Pipeline-Page-2-1024x307.png\" alt=\"Pipeline\" width=\"800\"/>\n",
    "\n"
   ]
  },
  {
   "cell_type": "markdown",
   "metadata": {},
   "source": [
    " $\\color{DarkBlue}{\\textsf{Short Exercise}}$\n",
    "- Build a pipline that first performs standard scaling and then fits a KRR. Call it `pipe_w_scaling`. \n",
    "- Fit it on the training set \n",
    "- Make predictions, calculate the errors and make the parity plots"
   ]
  },
  {
   "cell_type": "markdown",
   "metadata": {},
   "source": [
    "<details>\n",
    "<summary> <font color='green'>Click here for hints</font></summary>\n",
    "<ul>\n",
    "    <li> the <code>fit</code>, <code>predict</code> methods also work for pipelines </li>\n",
    "</ul>\n",
    "</details>"
   ]
  },
  {
   "cell_type": "code",
   "execution_count": null,
   "metadata": {},
   "outputs": [],
   "source": [
    "pipe_w_scaling = Pipeline(\n",
    "   [\n",
    "       ('scaling', StandardScaler()), \n",
    "       ('krr', #fillme)\n",
    "   ]\n",
    ")"
   ]
  },
  {
   "cell_type": "markdown",
   "metadata": {},
   "source": [
    "### 7.2. Hyperparameter optimization"
   ]
  },
  {
   "cell_type": "markdown",
   "metadata": {},
   "source": [
    "A key component we did not optimize so far are hyperparameters. Those are parameters of the model that we usually cannot learn from the data but have to fix before we train the model. \n",
    "Since we cannot learn those parameters it is not trivial to select them. Hence, what we typically do in practice is to create another set, a \"validation set\", and use it to test models trained with different hyperparameters.\n",
    "\n",
    "The most common approach to hyperparameter optimization is to define a grid of all relevant parameters and to search over the grid for the best model performance."
   ]
  },
  {
   "cell_type": "markdown",
   "metadata": {},
   "source": [
    "$\\color{DarkBlue}{\\textsf{Short Exercise}}$\n",
    "- Think about which parameters you could optimize in the pipeline. Note that your KRR model has two parameters you can optimize. You can also switch off some steps by setting them to `None'.\n",
    "- For each parameter you need to define a resonable grid to search over.\n",
    "- Recall, what k-fold cross-validation does. Run the hyperparameter optimization using 5-fold cross-validation (you can adjust the number of folds according to your computational resources/impatience. It turns out at k=10 is the [best tradeoff between variance and bias](https://arxiv.org/abs/1811.12808)). \n",
    "Tune the hyperparameters until you are statisfied (e.g., until you cannot improve the cross validated error any more)\n",
    "- Why don't we use the test set for hyperparameter tuning but instead test on the validation set? \n",
    "- Evaluate the model performance by calculating the performance metrics (MAE, MSE, max error) on the training and the test set.\n",
    "- *Optional:* Instead of grid search, try to use random search on the same grid (`RandomizedSearchCV`) and fix the number of evaluations (`n_iter`) to a fraction of the number of evaluations of grid search. What do you observe and conclude?"
   ]
  },
  {
   "cell_type": "markdown",
   "metadata": {},
   "source": [
    " $\\color{DarkRed}{\\textsf{Tips}}$\n",
    "- If you want to see what is happening, set the `verbosity` argument of the `GridSearchCV` object to a higher number.\n",
    " \n",
    "- If you want to speed up the optimization, you can run it in parallel by setting the `n_jobs` argument to the number of workers. If you set it to -1 it will use all available cores. *Using all cores might freeze your computer if you do not have enough memory*\n",
    " \n",
    "- If the optimization is too slow, reduce the number of data points in your set, the number of folds or the grid size. Note that it can also be a feasible strategy to first use a coarser grid and the a finer grid for fine-tuning.\n",
    "\n",
    "- For grid search, you need to define a parameter grid, which is a dictionary of the following form: \n",
    "```(python)\n",
    "param_grid = {\n",
    "                    'pipelinestage__parameter': np.logspace(-4,1,10),\n",
    "                    'pipelinestage': [None, TransformerA(), TransformerB()]\n",
    "            }\n",
    "```\n",
    "\n",
    "- After the search, you can access the best model with `.best_estimator_` and the best parameters with `.best_params_` on the GridSearchCV instance. For example `grid_krr.best_estimator_`\n",
    "\n",
    "- If you initialize the GridSearchCV instance with `refit=True` it will automatically train the model with all training data (and not only the training folds from cross-validations)\n",
    "\n",
    "The double underscore (dunder) notation works recursively and specifies the parameters for any pipeline stage. \n",
    "For example, `ovasvm__estimator__cls__C` would specifiy the `C` parameter of the estimator in the one-versus-rest classifier `ovasvm`. \n",
    "\n",
    "You can print all parameters of the pipeline using `print(sorted(pipeline.get_params().keys()))`"
   ]
  },
  {
   "cell_type": "markdown",
   "metadata": {},
   "source": [
    "<div class=\"alert alert-block alert-warning\">\n",
    "Be aware that tight grids will drastically increase the number of experiments you will run! In some cases, it can be useful to perform the optimization in steps, i.e., first use a coarse grid and then refine in interesting regions. \n",
    "Alternatively, there are approached like <a href=\"https://www.jmlr.org/papers/volume18/16-558/16-558.pdf\"> hyperband <a> that dynamically adjust the number of data points.\n",
    "</div>"
   ]
  },
  {
   "cell_type": "markdown",
   "metadata": {},
   "source": [
    "<details>\n",
    "<summary> <font color='green'>Click here for hints about pipelines and grid search</font></summary>\n",
    "<ul>\n",
    "    <li> You can use the <code>np.logspace</code> function to generate a grid for values that you want to vary on a logarithmic scale </li>\n",
    "    <li> There are two hyperparameters for KRR: the regularization strength <code>alpha</code> and the Gaussian width  <code>gamma</code> </li>\n",
    "    <li> For the regularization strength, values between 1 and 1e-3 can be reasonable. For gamma you can use the median heuristic, gamma = 1 / median, or values between 1e-3 and 1e3</li>\n",
    "</ul>\n",
    "</details>"
   ]
  },
  {
   "cell_type": "code",
   "execution_count": null,
   "metadata": {},
   "outputs": [],
   "source": [
    "# Define the parameter grid and the grid search object\n",
    "param_grid = {\n",
    "                    'scaling': [MinMaxScaler(), StandardScaler()], # test different scaling methods\n",
    "                    'krr__alpha': #fillme,\n",
    "                    'krr__#fillme': #fillme\n",
    "            }\n",
    "\n",
    "grid_krr = GridSearchCV(#your pipeline, param_grid=param_grid, \n",
    "                        cv=#number of folds, verbose=2, n_jobs=2)\n",
    "\n",
    "# optional random search\n",
    "#random_krr = RandomizedSearchCV(#your pipeline, param_distributions=param_grid, n_iter=#number of evaluations,\n",
    "#                        cv=#number of folds, verbose=2, n_jobs=2\n",
    ")"
   ]
  },
  {
   "cell_type": "code",
   "execution_count": null,
   "metadata": {},
   "outputs": [],
   "source": [
    "# run the grid search by calling the fit method \n",
    "grid_krr.fit(#fillme)\n",
    "# optional random search\n",
    "# random_krr.fit(#fillme)"
   ]
  },
  {
   "cell_type": "code",
   "execution_count": null,
   "metadata": {},
   "outputs": [],
   "source": [
    "# get the performance metrics\n",
    "get_regression_metrics(#fillme)"
   ]
  },
  {
   "cell_type": "markdown",
   "metadata": {},
   "source": [
    "<details>\n",
    "<summary> <font color='green'>Click here for some more information about hyperparameter optimization</font></summary>\n",
    "Grid search is not the most efficient way to perform hyperparamter optimization. Even <a href=\"http://jmlr.csail.mit.edu/papers/volume13/bergstra12a/bergstra12a.pdf\">random search was shown to be more efficient</a>. Really efficient though are Bayesian optimization approaches like <a href='https://papers.nips.cc/paper/4443-algorithms-for-hyper-parameter-optimization.pdf)'>TPE</a>. This is implemented in the hyperopt library, which is also installed in your conda environment.\n",
    "</details>"
   ]
  },
  {
   "cell_type": "markdown",
   "metadata": {},
   "source": [
    "<details>\n",
    "<summary> <font color='green'>Click here for hyperparameter optimization with hyperopt (advanded and optional outlook)</font></summary>\n",
    "    \n",
    "<b>Import the tools we need</b>\n",
    "<code>\n",
    "from hyperopt import fmin, tpe, hp, STATUS_OK, Trials, mix, rand, anneal, space_eval\n",
    "from functools import partial\n",
    "</code>    \n",
    "\n",
    "<b>Define the grid</b>\n",
    "<code>\n",
    "param_hyperopt = {\n",
    "    \"krr__alpha\": hp.loguniform(\"krr__alpha\", np.log(0.001), np.log(10)),\n",
    "    \"krr__gamma\": hp.loguniform(\"krr__gamma\", np.log(0.001), np.log(10)),\n",
    "}\n",
    "</code> \n",
    "\n",
    "<b>Define the objective function</b>\n",
    "<code>\n",
    "def objective_function(params):\n",
    "    pipe.set_params(\n",
    "        **{\n",
    "            \"krr__alpha\": params[\"krr__alpha\"],\n",
    "            \"krr__gamma\": params[\"krr__gamma\"],\n",
    "        }\n",
    "    )\n",
    "    score = cross_val_score(\n",
    "        pipe, X_train, y_train, cv=10, scoring=\"neg_mean_absolute_error\"\n",
    "    ).mean()\n",
    "    return {\"loss\": -score, \"status\": STATUS_OK} \n",
    "</code>\n",
    "\n",
    "<b>We will use a search in which we mix random search, annealing and tpe</b>\n",
    "<code>\n",
    "trials = Trials()\n",
    "mix_search = partial(\n",
    "   mix.suggest,\n",
    "   p_suggest=[(0.15, rand.suggest), (0.15, anneal.suggest), (0.7, tpe.suggest)],\n",
    ")\n",
    "</code>\n",
    "\n",
    "<b>Now, we can minimize the objective function.</b>\n",
    "<code>\n",
    "best_param = fmin(\n",
    "        objective_function,\n",
    "        param_hyperopt,\n",
    "        algo=mix_search,\n",
    "        max_evals=MAX_EVALES,\n",
    "        trials=trials,\n",
    "        rstate=np.random.RandomState(RANDOM_SEED),\n",
    "    )\n",
    "</code>\n",
    "\n",
    "</details>"
   ]
  },
  {
   "cell_type": "markdown",
   "metadata": {},
   "source": [
    "## 8. Feature Engineering "
   ]
  },
  {
   "cell_type": "markdown",
   "metadata": {},
   "source": [
    "Finally, we would like to remove features with low variance. This can be done by setting a variance threshold."
   ]
  },
  {
   "cell_type": "markdown",
   "metadata": {},
   "source": [
    "$\\color{DarkBlue}{\\textsf{Short Question}}$\n",
    "    \n",
    "- What is the reasoning behind doing this? \n",
    "- When might it go wrong and why?"
   ]
  },
  {
   "cell_type": "markdown",
   "metadata": {},
   "source": [
    " $\\color{DarkBlue}{\\textsf{Short Exercise}}$\n",
    "- Add a variance threshold to the pipeline (select the correct function argument)\n",
    "- Use random search for hyperparameter optimization, retrain the pipeline, and calculate the performance metrics (max error, MAE, MSE) on the training and test set\n",
    "- If you could improve the predictive performance, do not forget to also run the model for the Kaggle competition!"
   ]
  },
  {
   "cell_type": "code",
   "execution_count": null,
   "metadata": {},
   "outputs": [],
   "source": [
    "# Define the pipeline\n",
    "pipe_variance_threshold = Pipeline(\n",
    "    # fillme with the pipeline steps\n",
    "    [\n",
    "        ('variance_treshold', VarianceThreshold(#fillme with threshold)), \n",
    "        #fillme with remaining pipeline steps\n",
    "    ]\n",
    ")"
   ]
  },
  {
   "cell_type": "code",
   "execution_count": null,
   "metadata": {},
   "outputs": [],
   "source": [
    "param_grid_variance_threshold = {\n",
    "                    'scaling': [None, StandardScaler()],\n",
    "                    'krr__alpha': #fillme,\n",
    "                    'krr__#fillme': #fillme,\n",
    "                    'variance_treshold__threshold': #fillme\n",
    "            }\n",
    "\n",
    "random_variance_treshold = RandomizedSearchCV(#your pipeline, param_distributions=param_grid, n_iter=#number of evaluations,\n",
    "                        cv=#number of folds, verbose=2, n_jobs=2)"
   ]
  },
  {
   "cell_type": "code",
   "execution_count": null,
   "metadata": {},
   "outputs": [],
   "source": [
    "# Fit the pipeline and run the evaluation\n",
    "random_variance_treshold.fit(#fillme)"
   ]
  },
  {
   "cell_type": "markdown",
   "metadata": {},
   "source": [
    "$\\color{DarkBlue}{\\textsf{Short Exercise (optional)}}$\n",
    "- replace the variance threshold with a model-based feature selection \n",
    "`('feature_selection', SelectFromModel(LinearSVC(penalty=\"l1\")))` or [any feature selection method that you would like to try](https://scikit-learn.org/stable/modules/feature_selection.html)"
   ]
  },
  {
   "cell_type": "markdown",
   "metadata": {},
   "source": [
    "## 9. Saving the model"
   ]
  },
  {
   "cell_type": "markdown",
   "metadata": {},
   "source": [
    "Now, that we spent so much time in optimizing our model, we do not want to loose it. "
   ]
  },
  {
   "cell_type": "markdown",
   "metadata": {},
   "source": [
    " $\\color{DarkBlue}{\\textsf{Short Exercise}}$\n",
    "- use the [joblib library](https://scikit-learn.org/stable/modules/model_persistence.html) to save your model\n",
    "- make sure you can load it again\n"
   ]
  },
  {
   "cell_type": "code",
   "execution_count": null,
   "metadata": {},
   "outputs": [],
   "source": [
    "# Dump your model\n",
    "joblib.dump(model, filename)"
   ]
  },
  {
   "cell_type": "code",
   "execution_count": null,
   "metadata": {},
   "outputs": [],
   "source": [
    "# Try to load it again\n",
    "model_loaded = joblib.load(filename)"
   ]
  },
  {
   "cell_type": "markdown",
   "metadata": {},
   "source": [
    "## 10. Influence of Regularization"
   ]
  },
  {
   "cell_type": "markdown",
   "metadata": {},
   "source": [
    " $\\color{DarkBlue}{\\textsf{Short Exercise}}$\n",
    "- what happens if you set $\\alpha$  to a really small or to large value? Why is this the case explain what the parameter means using the equation derived in the lectures?\n",
    "\n",
    " To test this, fix this value in one of your pipelines, retrain the models (re-optimizing the other hyperparameters) and rerun the performance evaluation."
   ]
  },
  {
   "cell_type": "markdown",
   "metadata": {},
   "source": [
    "<details>\n",
    "<summary> <font color='green'>Click here for hints</font></summary>\n",
    "<ul>\n",
    "    <li> Check the derivation for ridge regression and KRR in the notes. </li>\n",
    "    <li> Also remember the loss landscapes we discussed in the lectures about LASSO. </li>\n",
    "</ul>\n",
    "</details>"
   ]
  },
  {
   "cell_type": "markdown",
   "metadata": {},
   "source": [
    "## 11. Interpreting the model "
   ]
  },
  {
   "cell_type": "markdown",
   "metadata": {},
   "source": [
    "Now, that our model performs decently, we would like to know which features are mainly responsible for this, i.e. how the model performs its reasoning. \n",
    "\n",
    "One method to do so is the [permutation feature importance technique](https://christophm.github.io/interpretable-ml-book/feature-importance.html)."
   ]
  },
  {
   "cell_type": "markdown",
   "metadata": {},
   "source": [
    "$\\color{DarkBlue}{\\textsf{Short question}}$\n",
    "\n",
    "We use both descriptors that encode the pore geometry (density, pore diameters, surface areas) as well as some that describe the chemistry of the MOF (the RACs). \n",
    "- Would you expect the relative importance of these features to be different for prediction of gas adsorption at high vs low gas pressure?"
   ]
  },
  {
   "cell_type": "markdown",
   "metadata": {},
   "source": [
    "<details>\n",
    "<summary> <font color='green'>Click here for a hint</font></summary>\n",
    "<ul>\n",
    "    <li> <a href=\"https://pubs.acs.org/doi/abs/10.1021/acs.chemmater.8b02257\">An article from Diego et al.</a> (10.1021/acs.chemmater.8b02257) gives some hints.</li>\n",
    "</ul>\n",
    "</details>"
   ]
  },
  {
   "cell_type": "markdown",
   "metadata": {},
   "source": [
    " $\\color{DarkBlue}{\\textsf{Short Exercise}}$\n",
    "- Complete the function `_calculate_permutation_scores` (which we took from the `sklearn` package) and which is needed to calculate the permutation feature importance using the `permutation_importance` function. "
   ]
  },
  {
   "cell_type": "code",
   "execution_count": null,
   "metadata": {},
   "outputs": [],
   "source": [
    "def _calculate_permutation_scores(estimator, X, y, col_idx, random_state,\n",
    "                                  n_repeats, scorer):\n",
    "    \"\"\"Calculate score when `col_idx` is permuted. Based on the sklearn implementation\n",
    "    \n",
    "    estimator: sklearn estimator object\n",
    "    X: pd.Dataframe or np.array\n",
    "    y: pd.Dataframe or np.array\n",
    "    col_idx: int\n",
    "    random_state: int\n",
    "    n_repeats: int \n",
    "    scorer: function that takes model, X and y_true as arguments\n",
    "    \"\"\"\n",
    "    random_state = check_random_state(random_state)\n",
    "\n",
    "    X_permuted = X.copy()\n",
    "    scores = np.zeros(n_repeats)\n",
    "    # get the indices\n",
    "    shuffling_idx = np.arange(X.shape[0])\n",
    "    for n_round in range(n_repeats):\n",
    "        # FILL BELOW HERE\n",
    "        # shuffle them (fill in what you want to shuffle)\n",
    "        random_state.shuffle(#fillme)  \n",
    "        \n",
    "        # Deal with dataframes\n",
    "        if hasattr(X_permuted, \"iloc\"):\n",
    "            # .iloc selects the indices from a dataframe and you give it [row, column]\n",
    "            col = X_permuted.iloc[shuffling_idx, col_idx]\n",
    "            col.index = X_permuted.index\n",
    "            X_permuted.iloc[:, col_idx] = col\n",
    "            \n",
    "        # Deal with numpy arrays \n",
    "        else:\n",
    "            # FILL BELOW HERE\n",
    "            # array indexing is [row, column]\n",
    "            X_permuted[:, col_idx] = X_permuted[#fillme]\n",
    "        \n",
    "        # Get the scores\n",
    "        feature_score = scorer(estimator, X_permuted, y)\n",
    "        \n",
    "        # record the scores in array \n",
    "        scores[n_round] = feature_score\n",
    "\n",
    "    return scores"
   ]
  },
  {
   "cell_type": "markdown",
   "metadata": {},
   "source": [
    "Nothing to change in the function below, it just call the `_calculate_permutation_scores` function you just completed. "
   ]
  },
  {
   "cell_type": "code",
   "execution_count": null,
   "metadata": {},
   "outputs": [],
   "source": [
    "def permutation_importance(\n",
    "    estimator,\n",
    "    X,\n",
    "    y,\n",
    "    scoring=\"neg_mean_absolute_error\",\n",
    "    n_repeats=5,\n",
    "    n_jobs=2,\n",
    "    random_state=None,\n",
    "):\n",
    "    \"\"\"Permutation importance for feature evaluation\n",
    "    estimator : object\n",
    "        An estimator that has already been :term:`fitted` and is compatible\n",
    "        with :term:`scorer`.\n",
    "    X : ndarray or DataFrame, shape (n_samples, n_features)\n",
    "        Data on which permutation importance will be computed.\n",
    "    y : array-like or None, shape (n_samples, ) or (n_samples, n_classes)\n",
    "        Targets for supervised or `None` for unsupervised.\n",
    "    scoring : string, callable or None, default=None\n",
    "        Scorer to use. It can be a single\n",
    "        string (see :ref:`scoring_parameter`) or a callable (see\n",
    "        :ref:`scoring`). If None, the estimator's default scorer is used.\n",
    "    n_repeats : int, default=5\n",
    "        Number of times to permute a feature.\n",
    "    n_jobs : int or None, default=2\n",
    "        The number of jobs to use for the computation.\n",
    "        `None` means 1 unless in a :obj:`joblib.parallel_backend` context.\n",
    "        `-1` means using all processors. See :term:`Glossary <n_jobs>`\n",
    "        for more details.\n",
    "    random_state : int, RandomState instance, or None, default=None\n",
    "        Pseudo-random number generator to control the permutations of each\n",
    "        feature. See :term:`random_state`.\n",
    "    \"\"\"\n",
    "    # Deal with dataframes\n",
    "    if not hasattr(X, \"iloc\"):\n",
    "        X = check_array(X, force_all_finite=\"allow-nan\", dtype=None)\n",
    "\n",
    "    # Precompute random seed from the random state to be used\n",
    "    # to get a fresh independent RandomState instance for each\n",
    "    # parallel call to _calculate_permutation_scores, irrespective of\n",
    "    # the fact that variables are shared or not depending on the active\n",
    "    # joblib backend (sequential, thread-based or process-based).\n",
    "    random_state = check_random_state(random_state)\n",
    "    random_seed = random_state.randint(np.iinfo(np.int32).max + 1)\n",
    "\n",
    "    # Determine scorer from user options.\n",
    "    scorer = check_scoring(estimator, scoring=scoring)\n",
    "    # get the performance score on the unpermuted data\n",
    "    baseline_score = scorer(estimator, X, y)\n",
    "\n",
    "    # run the permuted evaluations in parallel for each column\n",
    "    scores = Parallel(n_jobs=n_jobs)(\n",
    "        delayed(_calculate_permutation_scores)(\n",
    "            estimator, X, y, col_idx, random_seed, n_repeats, scorer\n",
    "        )\n",
    "        for col_idx in range(X.shape[1])\n",
    "    )\n",
    "\n",
    "    # get difference two\n",
    "    importances = baseline_score - np.array(scores)\n",
    "\n",
    "    # return the results (dictionary)\n",
    "    return Bunch(\n",
    "        importances_mean=np.mean(importances, axis=1),\n",
    "        importances_std=np.std(importances, axis=1),\n",
    "        importances=importances,\n",
    "    )\n"
   ]
  },
  {
   "cell_type": "markdown",
   "metadata": {},
   "source": [
    " $\\color{DarkBlue}{\\textsf{Short Exercise}}$\n",
    "- Use your function to find the five most important features.\n",
    "- Which are they? Did you expect this result?"
   ]
  },
  {
   "cell_type": "code",
   "execution_count": null,
   "metadata": {},
   "outputs": [],
   "source": [
    "permutation_results = permutation_importance(#fillme)"
   ]
  },
  {
   "cell_type": "code",
   "execution_count": null,
   "metadata": {},
   "outputs": [],
   "source": [
    "permutation_results[\"features\"] = FEATURES\n",
    "bars = hv.Bars(\n",
    "    permutation_results, \"features\", [\"importances_mean\", \"importances_std\"]\n",
    ").sort(\"importances_mean\", reverse=True)\n",
    "errors = hv.ErrorBars(\n",
    "    permutation_results, \"features\", vdims=[\"importances_mean\", \"importances_std\"]\n",
    ").sort(\"importances_mean\", reverse=True)\n",
    "\n",
    "bars * errors\n"
   ]
  },
  {
   "cell_type": "markdown",
   "metadata": {},
   "source": [
    "<details>\n",
    "<summary> <font color='green'>Click here for hints</font></summary>\n",
    "<ul>\n",
    "    <li> To get the top <emph>n</emph> indices of an array <code>a</code>, you can use <code>np.argsort(a)[-n:]</code></li>\n",
    "    <li> Get the feature names from the <code>FEATURES</code> list </li> \n",
    "    <li> combined this might look like <code>np.array(FEATURES)[np.argsort(a)[-n:]]</code></li>\n",
    "</ul>\n",
    "</details>"
   ]
  },
  {
   "cell_type": "markdown",
   "metadata": {},
   "source": [
    "<details>\n",
    "<summary> <font color='green'>Click here for more information on model interpretation</font></summary>\n",
    "The permutation feature importance technique is not a silver bullet, e.g. there are issues with correlated features.\n",
    "However, it is likely <a href='https://explained.ai/rf-importance/'>a better choice than feature importance, like impurity decrease, derived from random forests</a>).\n",
    "</details>"
   ]
  },
  {
   "cell_type": "markdown",
   "metadata": {},
   "source": [
    "## 12. Submit your best model to Kaggle "
   ]
  },
  {
   "cell_type": "markdown",
   "metadata": {},
   "source": [
    "Join the [Kaggle competition](https://www.kaggle.com/c/molsim-2022-ml-challenge) for this course!\n",
    "For this you can: \n",
    "- try to continue optimizing your KRR model \n",
    "- try to use a new model ([browse the sklearn documentation](https://scikit-learn.org/) for ideas or check out [xgboost](https://xgboost.readthedocs.io/en/stable/)\n",
    "\n",
    "The important parts for us here are: \n",
    "- that you make an attempt to improve your model, discuss this attempt, and use proper models to measure potential improvement \n",
    "- we will not grade you based on how \"fancy\" or model is or how well it performs but rather on whether you do something reasonable that is well motivated in your discussion\n",
    "- you do not need to try both a model and continue optimizing your model. Doing one of them is, in principle, \"enough\"\n",
    "\n",
    "Use then your best model to create a `submission.csv` with your predictions to join the competition and upload it to the competition site.\n"
   ]
  },
  {
   "cell_type": "code",
   "execution_count": null,
   "metadata": {},
   "outputs": [],
   "source": [
    "kaggle_data = pd.read_csv('data/features.csv')\n",
    "kaggle_predictions = #fillme.predict(kaggle_data[FEATURES])"
   ]
  },
  {
   "cell_type": "code",
   "execution_count": null,
   "metadata": {},
   "outputs": [],
   "source": [
    "submission = pd.DataFrame({\"id\": kaggle_data[\"id\"], \"prediction\": kaggle_predictions})\n",
    "\n",
    "submission.to_csv(\"submission.csv\", index=False)\n"
   ]
  },
  {
   "cell_type": "markdown",
   "metadata": {},
   "source": [
    "## Revisting the Kernel trick"
   ]
  },
  {
   "cell_type": "markdown",
   "metadata": {},
   "source": [
    "Kernel learning is based on representing the learning problem in terms of pairwise comparisons.\n",
    "The key is the kernel matrix, which is a matrix of size n x n, where n is the number of samples.\n",
    "\n",
    "A kernel matrix is symmetric, a condition is that it must satisfy the following equation: \n",
    "\n",
    "$$ \\sum_{i=1}^{N} \\sum_{j=1}^{N} a_i a_j K(x_i, x_j) \\ge 0$$\n",
    "\n",
    "The simplest kernel is the dot product, which is also called the linear kernel:\n",
    "\n",
    "$$K(\\mathbf{x}, \\mathbf{y}) = \\langle \\mathbf{x} , \\mathbf{y}\\rangle $$\n",
    "\n",
    "A more ambitious kernel is the polynomial kernel. For this, let $\\mathcal{X}$ be any set and $\\phi: \\mathcal{X} \\to \\mathbb{R}^n$. Then, the function $K$ is defined as:\n",
    "\n",
    "$$\\forall (\\mathbf{x}, \\mathbf{x}') \\in \\mathcal{X}^2, \\quad K(\\mathbf{x}, \\mathbf{x}') = \\langle \\phi(\\mathbf{x}), \\phi(\\mathbf{x}') \\rangle$$\n",
    "\n",
    "The kernel function takes input in the lower dimensional space and returns the dot product of the transformed vectors in the higher dimensional space. That is, you can measure similarity in transformed spaces without *explicitly* transforming features -- which can be quite expensive.\n",
    "\n",
    "The purpose is that you map data from some set into a rich space with \n",
    "- geometric operations \n",
    "- you might have infinite dimensional models (see notes in the slides for the Gaussian kernel)\n",
    "- you might lift data into a higher dimensional feature space where data is linearly seperable. That is, you can easily convert linear algorithms into non-linear ones. This will be clear from the following exercise.\n",
    "- you can apply the same toolbox to data such as strings, graphs if you can define a proper kernel\n",
    "  \n",
    "The kernel trick allows you to replace inner product evaluation with a kernel evaluation. This is nice if the ML algorithm only needs the inner products.\n",
    "\n",
    "<img src=\"_static/kernel_mapping.png\" style=\"width: 400px;\"/>\n",
    "\n",
    "\n",
    "Example:\n",
    "\n",
    "<img src=\"_static/kernel_example.png\" style=\"width: 400px;\"/>\n",
    "\n",
    "$$\n",
    "\\mathbf{x} = (x_1, x_2)^T \\in \\mathbb{R}^2, \\quad \\phi(x) = (x_1^2, \\sqrt{2}x_1x_2, x_2^2)^T \\in \\mathbb{R}^3\n",
    "$$\n",
    "\n",
    " $\\color{DarkBlue}{\\textsf{Short question}}$\n",
    "1. Show that the two-dimensional polynomial kernel (feature map $\\phi(x) = (x_1^2, \\sqrt{2}x_1x_2, x_2^2)^T$) is $K(\\mathbf{X}, \\mathbf{X'}) = (\\mathbf{X}^T\\mathbf{X}')^2$ (hint: just write down the inner product with the feature map and see if you can rearrange to get the Kernel equation. [Click here really strong hint](https://stats.stackexchange.com/questions/152897/how-to-intuitively-explain-what-a-kernel-is))\n",
    "\n",
    "\n",
    "Data is linearly seperable if you can draw a line to seperate classes.\n",
    "\n",
    " $\\color{DarkBlue}{\\textsf{Short question}}$\n",
    "1. Is the following dataset linearly seperable? "
   ]
  },
  {
   "cell_type": "code",
   "execution_count": null,
   "metadata": {},
   "outputs": [],
   "source": [
    "x = np.array([1, 1, 2, 3, 3, 6, 6, 6, 9, 9, 10, 11, 12, 13, 16, 18])\n",
    "y = np.array([18, 13, 9, 6, 15, 11, 6, 3, 5, 2, 10, 5, 6, 1, 3, 1])\n",
    "label = np.array([1, 1, 1, 1, 0, 0, 0, 1, 0, 1, 0, 0, 0, 1, 0, 1])\n",
    "data = pd.DataFrame({\"x\": x, \"y\": y, \"label\": label})\n",
    "scatter2d = hv.Scatter(data, kdims=[\"x\", \"y\"], vdims=[\"x\", \"y\", \"label\"]).opts(\n",
    "    color=\"label\", cmap=\"Set1\"\n",
    ")\n",
    "scatter2d\n"
   ]
  },
  {
   "cell_type": "markdown",
   "metadata": {},
   "source": [
    "Next, we will implement the feature mapping function $\\phi$. "
   ]
  },
  {
   "cell_type": "code",
   "execution_count": null,
   "metadata": {},
   "outputs": [],
   "source": [
    "def feature_mapping(x):\n",
    "    \"\"\"\n",
    "    Maps features x \\in \\mathbb{R}^2 to a new space (\\in \\mathbb{R}^3).\n",
    "    According to the polynomial mapping:\n",
    "    \\phi(x) = (x_1^2, \\sqrt{2}x_1x_2, x_2^2)^T$)\n",
    "\n",
    "    Parameters\n",
    "    ----------\n",
    "    x : array-like, shape (x_1, x_2)\n",
    "\n",
    "    Returns\n",
    "    -------\n",
    "    array-like, shape (3,)\n",
    "    \"\"\"\n",
    "    return  # fillme\n"
   ]
  },
  {
   "cell_type": "markdown",
   "metadata": {},
   "source": [
    " $\\color{DarkBlue}{\\textsf{Short question}}$\n",
    " \n",
    "Apply this function to your data and plot the resulting 3D data. What do you observe (is the data now linearly seperable)?"
   ]
  },
  {
   "cell_type": "code",
   "execution_count": null,
   "metadata": {},
   "outputs": [],
   "source": [
    "mapped_data = feature_mapping(data[[\"x\", \"y\"]].values)\n",
    "mapped_df = pd.DataFrame(mapped_data.T, columns=[\"x1\", \"x2\", \"x3\"])\n",
    "mapped_df[\"label\"] = data[\"label\"]\n",
    "\n",
    "hv.extension(\"plotly\")  # you might use plotly as interactive backend\n",
    "hv.Scatter3D(mapped_df, kdims=[\"x1\", \"x2\", \"x3\"]).opts(\n",
    "    color=\"label\", size=10, cmap=\"Set1\"\n",
    ")\n"
   ]
  },
  {
   "cell_type": "markdown",
   "metadata": {},
   "source": [
    "$\\color{DarkBlue}{\\textsf{Short question}}$\n",
    "\n",
    "Now, construct the inner product matrix of the data in this new space."
   ]
  },
  {
   "cell_type": "code",
   "execution_count": null,
   "metadata": {},
   "outputs": [],
   "source": [
    "inner_product_feature_mapped = # compute me (X * X.T)"
   ]
  },
  {
   "cell_type": "markdown",
   "metadata": {},
   "source": [
    "The kernel trick describes that we can get there without explicitly computing the feature transformations. \n",
    "That is, we get the inner product matrix of the transformed features without transforming the features themselves.\n",
    "\n",
    "\n",
    "$\\color{DarkBlue}{\\textsf{Short question}}$\n",
    "\n",
    "Use the kernel function and use it to compute the inner product matrix."
   ]
  },
  {
   "cell_type": "code",
   "execution_count": null,
   "metadata": {},
   "outputs": [],
   "source": [
    "def kernel(x, x_prime, degree=2, gamma=None, coef0=1):\n",
    "    \"\"\"\n",
    "    Computes the inner product of two vectors x and y.\n",
    "\n",
    "    K(x, x_prime) =  gamma * (<x, x_prime> + coef0)^degree\n",
    "\n",
    "    See https://en.wikipedia.org/wiki/Polynomial_kernel for more details.\n",
    "    We minick the implementation of https://scikit-learn.org/stable/modules/generated/sklearn.metrics.pairwise.polynomial_kernel.html\n",
    "    See https://scikit-learn.org/stable/modules/metrics.html#polynomial-kernel\n",
    "\n",
    "    Parameters\n",
    "    ----------\n",
    "    x : array-like, shape (N,p)\n",
    "    x_prime : array-like, shape (N,p)\n",
    "    degree : int, default=3\n",
    "    gamma : float, default=None\n",
    "        If None, defaults to 1.0 / n_features.\n",
    "    coef0 : float, default=1\n",
    "\n",
    "    Returns\n",
    "    -------\n",
    "    K : array-like, shape (N,N)\n",
    "    \"\"\"\n",
    "    if gamma is None:\n",
    "        gamma = 1.0 / x.shape[1]\n",
    "\n",
    "    return gamma * (x @ x_prime.T + coef0) ** degree\n",
    "\n",
    "\n",
    "inner_product_kernel = kernel(data[[\"x\", \"y\"]].values, data[[\"x\", \"y\"]].values)\n"
   ]
  },
  {
   "cell_type": "markdown",
   "metadata": {},
   "source": [
    "\n",
    "$\\color{DarkBlue}{\\textsf{Short question}}$\n",
    "\n",
    "Compare the inner product matrix you get from the kernel function with the one got directly from the inner product. You can do so using the `plt.imshow` function which plots the matrix as heatmap."
   ]
  },
  {
   "cell_type": "code",
   "execution_count": null,
   "metadata": {},
   "outputs": [],
   "source": [
    "plt.imshow(inner_product_kernel, cmap='viridis')"
   ]
  },
  {
   "cell_type": "code",
   "execution_count": null,
   "metadata": {},
   "outputs": [],
   "source": [
    "plt.imshow(inner_product_feature_mapped, cmap='viridis')"
   ]
  },
  {
   "cell_type": "markdown",
   "metadata": {},
   "source": [
    "Now, we can try to use the kernel for a regression problem. For this, we will generate some wiggly data, fit a regression model, and then compute the polynomial kernel prior to the linear regression."
   ]
  },
  {
   "cell_type": "code",
   "execution_count": null,
   "metadata": {},
   "outputs": [],
   "source": [
    "n = 100\n",
    "X = np.linspace(-5, 5, 100)\n",
    "\n",
    "\n",
    "def my_function(x):\n",
    "    return x + 3 * x ** 2 + 0.3 * x ** 3\n",
    "\n",
    "\n",
    "y = my_function(X) + 0.1 * np.random.randn(n)  # polynomial plus noise\n",
    "\n",
    "X_train, X_test, y_train, y_test = train_test_split(\n",
    "    X, y, test_size=0.2, random_state=42\n",
    ")\n",
    "\n",
    "\n",
    "hv.extension(\"bokeh\")\n",
    "\n",
    "s1 = hv.Scatter(\n",
    "    np.hstack([X_train.reshape(-1, 1), y_train.reshape(-1, 1)]), label=\"train\"\n",
    ")\n",
    "s2 = hv.Scatter(np.hstack([X_test.reshape(-1, 1), y_test.reshape(-1, 1)]), label=\"test\")\n",
    "\n",
    "(s1 * s2).opts(legend_position=\"top_left\")\n"
   ]
  },
  {
   "cell_type": "markdown",
   "metadata": {},
   "source": [
    "\n",
    "$\\color{DarkBlue}{\\textsf{Short question}}$\n",
    "\n",
    "Now, fit a linear model to this data. \n",
    "\n",
    "1. Fit the linear model on the training set \n",
    "2. Evaluate the model on the test set and the training set \n",
    "3. Plot the true values as well as the predictions in the same plot"
   ]
  },
  {
   "cell_type": "code",
   "execution_count": null,
   "metadata": {},
   "outputs": [],
   "source": [
    "linear_regressor = LinearRegression()\n",
    "\n",
    "linear_regressor.fit(#fillme)\n",
    "train_predictions = linear_regressor.predict(X_train.reshape(-1,1))\n",
    "test_predictions = linear_regressor.predict(X_test.reshape(-1,1))\n",
    "\n",
    "s1 = hv.Scatter(np.hstack([X_train.reshape(-1,1), y_train.reshape(-1,1)]), label='train true')\n",
    "s2 = hv.Scatter(np.hstack([X_test.reshape(-1,1), y_test.reshape(-1,1)]), label='test true')\n",
    "s3 = hv.Scatter(np.hstack([X_train.reshape(-1,1), train_predictions.reshape(-1,1)]), label='train pred')\n",
    "s4 = hv.Scatter(np.hstack([X_test.reshape(-1,1), test_predictions.reshape(-1,1)]), label='test pred')\n",
    "\n",
    "(s1 * s2 * s3 * s4).opts(legend_position='top_left')"
   ]
  },
  {
   "cell_type": "markdown",
   "metadata": {},
   "source": [
    "\n",
    "$\\color{DarkBlue}{\\textsf{Short question}}$\n",
    "\n",
    "Now, let's compute the kernel matrix of order 3 for the train and the test data. \n",
    "\n",
    "Remember that we derived in the lecture that we can write linear regression in terms of inner products."
   ]
  },
  {
   "cell_type": "code",
   "execution_count": null,
   "metadata": {},
   "outputs": [],
   "source": [
    "K_train = # fillme\n",
    "K_test  =  #fillme  "
   ]
  },
  {
   "cell_type": "code",
   "execution_count": null,
   "metadata": {},
   "outputs": [],
   "source": [
    "linear_regressor_w_kernel = LinearRegression()\n",
    "\n",
    "linear_regressor_w_kernel.fit(K_train, y_train)\n",
    "kernel_linear_regressor_train_predictions = linear_regressor_w_kernel.predict(K_train)\n",
    "kernel_linear_regressor_test_predictions = linear_regressor_w_kernel.predict(K_test)\n",
    "\n",
    "s1 = hv.Scatter(\n",
    "    np.hstack([X_train.reshape(-1, 1), y_train.reshape(-1, 1)]), label=\"train true\"\n",
    ")\n",
    "s2 = hv.Scatter(\n",
    "    np.hstack([X_test.reshape(-1, 1), y_test.reshape(-1, 1)]), label=\"test true\"\n",
    ")\n",
    "s3 = hv.Scatter(\n",
    "    np.hstack(\n",
    "        [\n",
    "            X_train.reshape(-1, 1),\n",
    "            kernel_linear_regressor_train_predictions.reshape(-1, 1),\n",
    "        ]\n",
    "    ),\n",
    "    label=\"train pred\",\n",
    ")\n",
    "s4 = hv.Scatter(\n",
    "    np.hstack(\n",
    "        [X_test.reshape(-1, 1), kernel_linear_regressor_test_predictions.reshape(-1, 1)]\n",
    "    ),\n",
    "    label=\"test pred\",\n",
    ")\n",
    "\n",
    "(s1 * s2 * s3 * s4).opts(legend_position=\"top_left\")\n"
   ]
  },
  {
   "cell_type": "markdown",
   "metadata": {},
   "source": [
    "$\\color{DarkBlue}{\\textsf{Short question}}$\n",
    "\n",
    "Now, compare this with a linear kernel (`degree=1`). For this, build the linear kernel matrix and fit the linear model."
   ]
  },
  {
   "cell_type": "code",
   "execution_count": null,
   "metadata": {},
   "outputs": [],
   "source": [
    "K_linear_train = # fillme \n",
    "K_linear_test  = # fillme \n",
    "\n",
    "linear_regressor_w_linear_kernel = LinearRegression()\n",
    "\n",
    "linear_regressor_w_linear_kernel.fit(#fillme)\n",
    "linear_kernel_linear_regressor_train_predictions = linear_regressor_w_kernel.predict(K_linear_train)\n",
    "linear_kernel_linear_regressor_test_predictions = linear_regressor_w_kernel.predict(K_linear_test)\n",
    "\n",
    "s1 = hv.Scatter(np.hstack([X_train.reshape(-1,1), y_train.reshape(-1,1)]), label='train true')\n",
    "s2 = hv.Scatter(np.hstack([X_test.reshape(-1,1), y_test.reshape(-1,1)]), label='test true')\n",
    "s3 = hv.Scatter(np.hstack([X_train.reshape(-1,1), linear_kernel_linear_regressor_train_predictions.reshape(-1,1)]), label='train pred')\n",
    "s4 = hv.Scatter(np.hstack([X_test.reshape(-1,1), linear_kernel_linear_regressor_test_predictions.reshape(-1,1)]), label='test pred')\n",
    "\n",
    "(s1 * s2 * s3 * s4).opts(legend_position='top_left')"
   ]
  },
  {
   "cell_type": "markdown",
   "metadata": {},
   "source": [
    "$\\color{DarkBlue}{\\textsf{Short question}}$\n",
    "\n",
    "Now, let's analyze the coefficients of the linear regression models. What is the shape and the meaning of the coefficients in the different models (linear, linear with linear kernel, linear with polynomial kernel)? From [the documentation](https://scikit-learn.org/stable/modules/generated/sklearn.linear_model.LinearRegression.html#sklearn.linear_model.LinearRegression) you see that you can find the shape coefficients of the linear model as `model.coef_`, for example `linear_regressor.coef_`."
   ]
  }
 ],
 "metadata": {
  "interpreter": {
   "hash": "07625e4192030a9c70f096cb8bf3ec799f058f63baf73b2aabd81f215fd5918b"
  },
  "kernelspec": {
   "display_name": "Python [conda env:ch315] *",
   "language": "python",
   "name": "conda-env-ch315-py"
  },
  "language_info": {
   "codemirror_mode": {
    "name": "ipython",
    "version": 3
   },
   "file_extension": ".py",
   "mimetype": "text/x-python",
   "name": "python",
   "nbconvert_exporter": "python",
   "pygments_lexer": "ipython3",
   "version": "3.8.12"
  }
 },
 "nbformat": 4,
 "nbformat_minor": 4
}
